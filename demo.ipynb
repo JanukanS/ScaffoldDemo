{
 "cells": [
  {
   "attachments": {},
   "cell_type": "markdown",
   "metadata": {},
   "source": [
    "# Demo Intro\n",
    "The purpose of this demo is to scaffold a FERN application with:\n",
    "- Project Folder with a Git Repo Initialized\n",
    "- Front End Folder with a functional React Application\n",
    "    - Just displays the firebase status\n",
    "- Back End Folder with a functional Express Application\n",
    "    - Just a get endpoint for revealing firebase status\n",
    "- Generated Backend Server will be connect to firebase with user provided credentials"
   ]
  },
  {
   "attachments": {},
   "cell_type": "markdown",
   "metadata": {},
   "source": [
    "# Basic Guidelines\n",
    "1. Never attempt an rm *, this demo will be changing directories and might accidentally delete something (Should probably find a way to code protection against this)\n",
    "2. Never attempt to change the user's environment (installing/modifying/uninstalling )globally\n",
    "    - if a core program is not present (i.e. node, git), the user should install the program before running the scaffold tool\n",
    "    - if a package/library needs to be installed, it should be done in a local way\n",
    "    - file modifications should only occur in a project directory\n",
    "3. Fail Fast, if a step cannot be completed the entire scaffolding program should halt"
   ]
  },
  {
   "attachments": {},
   "cell_type": "markdown",
   "metadata": {},
   "source": [
    "# Calling Command Line Programs from Python"
   ]
  },
  {
   "cell_type": "code",
   "execution_count": 2,
   "metadata": {},
   "outputs": [
    {
     "name": "stdout",
     "output_type": "stream",
     "text": [
      "git Installed: True\n",
      "node Installed: False\n",
      "npm Installed: False\n",
      "b'commit df5a872342f44d92c155c15adad1ed57fcdd1744\\nAuthor: JanukanS <28988453+JanukanS@users.noreply.github.com>\\nDate:   Thu Feb 9 21:40:17 2023 -0700\\n\\n    Assigned Tasks\\n\\ncommit ae3719f295dd64601d4395d3fec102c5d31761f4\\nAuthor: JanukanS <28988453+JanukanS@users.noreply.github.com>\\nDate:   Thu Feb 9 20:50:27 2023 -0700\\n\\n    Added Some Notes\\n\\ncommit 61e3a91e1fc822c2a916e7c4652f2e80bc20c7fe\\nAuthor: JanukanS <28988453+JanukanS@users.noreply.github.com>\\nDate:   Thu Feb 9 20:43:11 2023 -0700\\n\\n    Added future section for firebase integration\\n\\ncommit a53b472a17c9497180e8a31fba48b319a7c69a5f\\nAuthor: JanukanS <28988453+JanukanS@users.noreply.github.com>\\nDate:   Thu Feb 9 20:36:48 2023 -0700\\n\\n    Added tasks for react, express. Made some failsafes\\n\\ncommit 45081a55101b822c372274582a4d40cd7192cd14\\nAuthor: JanukanS <28988453+JanukanS@users.noreply.github.com>\\nDate:   Thu Feb 9 19:53:05 2023 -0700\\n\\n    Initial Commit\\n'\n"
     ]
    }
   ],
   "source": [
    "from dataclasses import dataclass\n",
    "import shutil\n",
    "import os\n",
    "import subprocess\n",
    "\n",
    "# homePath stores the location of the jupyter notebook\n",
    "# if os.getcwd is run while the program is another directory\n",
    "# homePath will not be correct. To fix this, homepath is always\n",
    "# run in the first cell of the notebook. Before it is assigned,\n",
    "# the global namespace is checked for the presence of homepath\n",
    "# This conditional effectively makes homepath a const\n",
    "if 'homePath' not in globals():\n",
    "    homePath = str(os.getcwd())\n",
    "\n",
    "# a class to use command line programs through python\n",
    "# note it must be a program, this doesn't work for \n",
    "# system utilities like cd, rm, mkdir etc. \n",
    "@dataclass\n",
    "class ProgramHandle:\n",
    "    programName: str\n",
    "\n",
    "    def exists(self) -> bool:\n",
    "        # checks if the program is accessible/installed\n",
    "        return bool(shutil.which(self.programName))\n",
    "\n",
    "    def execute(self, progArgs: list[str]):\n",
    "        '''Executes function and returns a subProcess.completedProcess instance'''\n",
    "        return subprocess.run([self.programName, *progArgs],\n",
    "                              capture_output=True)\n",
    "\n",
    "# commonly used program handles\n",
    "gitProg = ProgramHandle('git')\n",
    "nodeProg = ProgramHandle('node')\n",
    "npmProg = ProgramHandle('npm')\n",
    "\n",
    "\n",
    "\n",
    "def installStatus():\n",
    "    '''Reports if programs are installed and accesible'''\n",
    "    progList = [gitProg, nodeProg, npmProg]\n",
    "    for prog in progList:\n",
    "        print(f\"{prog.programName} Installed: {prog.exists()}\")\n",
    "\n",
    "installStatus()\n",
    "print(gitProg.execute(['log']).stdout)"
   ]
  },
  {
   "attachments": {},
   "cell_type": "markdown",
   "metadata": {},
   "source": [
    "# Reset Demo\n",
    "This section just deletes and recreates the demo folder."
   ]
  },
  {
   "cell_type": "code",
   "execution_count": 3,
   "metadata": {},
   "outputs": [],
   "source": [
    "def clearDemo():\n",
    "    '''Empties the demo folder'''\n",
    "    os.chdir(homePath) # travel to original directory\n",
    "    shutil.rmtree(\"./demoFolder\")\n",
    "    os.mkdir(\"./demoFolder\")\n",
    "clearDemo()"
   ]
  },
  {
   "attachments": {},
   "cell_type": "markdown",
   "metadata": {},
   "source": [
    "# Part 1 Creation of Project Folder and Git Initialization\n",
    "Currently this part requires the demo folder to be empty, running the cell above should work. If not, then restart the journal kernel"
   ]
  },
  {
   "cell_type": "code",
   "execution_count": 4,
   "metadata": {},
   "outputs": [
    {
     "name": "stdout",
     "output_type": "stream",
     "text": [
      "b'Initialized empty Git repository in C:/Users/Janukan/Documents/ScaffoldDemo/demoFolder/fernDemo/.git/\\n'\n",
      "b''\n"
     ]
    }
   ],
   "source": [
    "# create directory and enter it\n",
    "os.mkdir(\"./demoFolder/fernDemo\")\n",
    "os.chdir(\"./demoFolder/fernDemo\")\n",
    "\n",
    "# git init and print standard output\n",
    "initResult = gitProg.execute([\"init\"])\n",
    "print(initResult.stdout)\n",
    "print(initResult.stderr)\n",
    "\n",
    "# travel back to demoFolder Root\n",
    "os.chdir(\"..\")"
   ]
  },
  {
   "attachments": {},
   "cell_type": "markdown",
   "metadata": {},
   "source": [
    "# Part 2: Create Front End Folder (React) (Assigned to Wilson)\n",
    "1. Create Front End Folder\n",
    "2. Initialize Node App\n",
    "3. Install React Locally\n",
    "4. Create React App (Default React App is good for now)\n",
    "5. Travel to Front End Folder \n",
    "6. Git add + Git Commit\n",
    "7. Return to Project Directory"
   ]
  },
  {
   "cell_type": "code",
   "execution_count": null,
   "metadata": {},
   "outputs": [],
   "source": [
    "import shutil\n",
    "import os\n",
    "import subprocess\n",
    "\n",
    "#1\n",
    "os.mkdir(\"frontend\")\n",
    "\n",
    "#____________________________________________________________________________________________________\n",
    "#2, 3, and 4\n",
    "\n",
    "import subprocess\n",
    "import os\n",
    "\n",
    "def initApp(appName):\n",
    "    #Create commands that create React app and NodeJS project.\n",
    "    createReactAppCommand = f\"npx create-react-app {appName}\"\n",
    "    createNodeAppCommand = f\"npm init -y\"\n",
    "\n",
    "    #Crete the React app directory name\n",
    "    reactDirectory = f\"{appName}\"\n",
    "    \n",
    "    #Install the Node package\n",
    "    subprocess.run(createNodeAppCommand, shell=True, check=True)\n",
    "\n",
    "    #Create and enter the React app directory\n",
    "    os.mkdir(reactDirectory)\n",
    "    os.chdir(reactDirectory)\n",
    "    \n",
    "    #Create the React app\n",
    "    subprocess.run(createReactAppCommand, shell=True, check=True)\n",
    "    os.chdir(\"..\")\n",
    "    \n",
    "    print(f\"Both React and Node apps have been created successfully.\")\n",
    "\n",
    "name = input(\"Input the name of your app.\")\n",
    "initApp(name)\n",
    "\n",
    "#____________________________________________________________________________________________________\n",
    "#5\n",
    "os.chdir(\"frontend\")\n",
    "\n",
    "#____________________________________________________________________________________________________\n",
    "#6\n",
    "def gitAddAndCommit(message):\n",
    "    gitAddCommand = \"git add --a\"\n",
    "    gitCommitCommand = f'git commit -m \"{message}\"'\n",
    "\n",
    "    subprocess.run(gitAddCommand, shell=True, check=True)\n",
    "    subprocess.run(gitCommitCommand, shell=True, check=True)\n",
    "\n",
    "    print(\"The frotend folder has successfully be added and committed to git.\")\n",
    "\n",
    "commitMessage = input(\"What is the commit message you would like to write? \\n\")\n",
    "gitAddAndCommit(commitMessage)\n",
    "\n",
    "#____________________________________________________________________________________________________\n",
    "#7\n",
    "os.chdir(\"..\")"
   ]
  },
  {
   "attachments": {},
   "cell_type": "markdown",
   "metadata": {},
   "source": [
    "# Part 3: Create Backend Folder (Express)(Assigned to Randy)\n",
    "1. Create Back End Folder within project directory\n",
    "2. Initialize Node App\n",
    "3. Install Express Locally\n",
    "4. Copy Basic Express App into directory\n",
    "    - Keep express app source files within resources folder\n",
    "    - Simple express app: a single \"hello world\" get request\n",
    "5. Travel to Back End Folder\n",
    "6. Git add + Git Commit\n",
    "7. Return to Project Directory"
   ]
  },
  {
   "cell_type": "code",
   "execution_count": 7,
   "metadata": {},
   "outputs": [
    {
     "ename": "FileNotFoundError",
     "evalue": "[WinError 2] The system cannot find the file specified",
     "output_type": "error",
     "traceback": [
      "\u001b[1;31m---------------------------------------------------------------------------\u001b[0m",
      "\u001b[1;31mFileNotFoundError\u001b[0m                         Traceback (most recent call last)",
      "Cell \u001b[1;32mIn[7], line 6\u001b[0m\n\u001b[0;32m      4\u001b[0m os\u001b[39m.\u001b[39mchdir(\u001b[39m\"\u001b[39m\u001b[39m./demoFolder/backend\u001b[39m\u001b[39m\"\u001b[39m)\n\u001b[0;32m      5\u001b[0m \u001b[39m#install express locally\",\u001b[39;00m\n\u001b[1;32m----> 6\u001b[0m initResult \u001b[39m=\u001b[39m npmProg\u001b[39m.\u001b[39;49mexecute([\u001b[39m'\u001b[39;49m\u001b[39minit\u001b[39;49m\u001b[39m'\u001b[39;49m])\n\u001b[0;32m      7\u001b[0m \u001b[39mprint\u001b[39m(initResult\u001b[39m.\u001b[39mstdout)\n\u001b[0;32m      8\u001b[0m \u001b[39mprint\u001b[39m(initResult\u001b[39m.\u001b[39mstderr)\n",
      "Cell \u001b[1;32mIn[2], line 28\u001b[0m, in \u001b[0;36mProgramHandle.execute\u001b[1;34m(self, progArgs)\u001b[0m\n\u001b[0;32m     26\u001b[0m \u001b[39mdef\u001b[39;00m \u001b[39mexecute\u001b[39m(\u001b[39mself\u001b[39m, progArgs: \u001b[39mlist\u001b[39m[\u001b[39mstr\u001b[39m]):\n\u001b[0;32m     27\u001b[0m \u001b[39m    \u001b[39m\u001b[39m'''Executes function and returns a subProcess.completedProcess instance'''\u001b[39;00m\n\u001b[1;32m---> 28\u001b[0m     \u001b[39mreturn\u001b[39;00m subprocess\u001b[39m.\u001b[39;49mrun([\u001b[39mself\u001b[39;49m\u001b[39m.\u001b[39;49mprogramName, \u001b[39m*\u001b[39;49mprogArgs],\n\u001b[0;32m     29\u001b[0m                           capture_output\u001b[39m=\u001b[39;49m\u001b[39mTrue\u001b[39;49;00m)\n",
      "File \u001b[1;32mC:\\Program Files\\WindowsApps\\PythonSoftwareFoundation.Python.3.11_3.11.752.0_x64__qbz5n2kfra8p0\\Lib\\subprocess.py:548\u001b[0m, in \u001b[0;36mrun\u001b[1;34m(input, capture_output, timeout, check, *popenargs, **kwargs)\u001b[0m\n\u001b[0;32m    545\u001b[0m     kwargs[\u001b[39m'\u001b[39m\u001b[39mstdout\u001b[39m\u001b[39m'\u001b[39m] \u001b[39m=\u001b[39m PIPE\n\u001b[0;32m    546\u001b[0m     kwargs[\u001b[39m'\u001b[39m\u001b[39mstderr\u001b[39m\u001b[39m'\u001b[39m] \u001b[39m=\u001b[39m PIPE\n\u001b[1;32m--> 548\u001b[0m \u001b[39mwith\u001b[39;00m Popen(\u001b[39m*\u001b[39;49mpopenargs, \u001b[39m*\u001b[39;49m\u001b[39m*\u001b[39;49mkwargs) \u001b[39mas\u001b[39;00m process:\n\u001b[0;32m    549\u001b[0m     \u001b[39mtry\u001b[39;00m:\n\u001b[0;32m    550\u001b[0m         stdout, stderr \u001b[39m=\u001b[39m process\u001b[39m.\u001b[39mcommunicate(\u001b[39minput\u001b[39m, timeout\u001b[39m=\u001b[39mtimeout)\n",
      "File \u001b[1;32mC:\\Program Files\\WindowsApps\\PythonSoftwareFoundation.Python.3.11_3.11.752.0_x64__qbz5n2kfra8p0\\Lib\\subprocess.py:1024\u001b[0m, in \u001b[0;36mPopen.__init__\u001b[1;34m(self, args, bufsize, executable, stdin, stdout, stderr, preexec_fn, close_fds, shell, cwd, env, universal_newlines, startupinfo, creationflags, restore_signals, start_new_session, pass_fds, user, group, extra_groups, encoding, errors, text, umask, pipesize, process_group)\u001b[0m\n\u001b[0;32m   1020\u001b[0m         \u001b[39mif\u001b[39;00m \u001b[39mself\u001b[39m\u001b[39m.\u001b[39mtext_mode:\n\u001b[0;32m   1021\u001b[0m             \u001b[39mself\u001b[39m\u001b[39m.\u001b[39mstderr \u001b[39m=\u001b[39m io\u001b[39m.\u001b[39mTextIOWrapper(\u001b[39mself\u001b[39m\u001b[39m.\u001b[39mstderr,\n\u001b[0;32m   1022\u001b[0m                     encoding\u001b[39m=\u001b[39mencoding, errors\u001b[39m=\u001b[39merrors)\n\u001b[1;32m-> 1024\u001b[0m     \u001b[39mself\u001b[39;49m\u001b[39m.\u001b[39;49m_execute_child(args, executable, preexec_fn, close_fds,\n\u001b[0;32m   1025\u001b[0m                         pass_fds, cwd, env,\n\u001b[0;32m   1026\u001b[0m                         startupinfo, creationflags, shell,\n\u001b[0;32m   1027\u001b[0m                         p2cread, p2cwrite,\n\u001b[0;32m   1028\u001b[0m                         c2pread, c2pwrite,\n\u001b[0;32m   1029\u001b[0m                         errread, errwrite,\n\u001b[0;32m   1030\u001b[0m                         restore_signals,\n\u001b[0;32m   1031\u001b[0m                         gid, gids, uid, umask,\n\u001b[0;32m   1032\u001b[0m                         start_new_session, process_group)\n\u001b[0;32m   1033\u001b[0m \u001b[39mexcept\u001b[39;00m:\n\u001b[0;32m   1034\u001b[0m     \u001b[39m# Cleanup if the child failed starting.\u001b[39;00m\n\u001b[0;32m   1035\u001b[0m     \u001b[39mfor\u001b[39;00m f \u001b[39min\u001b[39;00m \u001b[39mfilter\u001b[39m(\u001b[39mNone\u001b[39;00m, (\u001b[39mself\u001b[39m\u001b[39m.\u001b[39mstdin, \u001b[39mself\u001b[39m\u001b[39m.\u001b[39mstdout, \u001b[39mself\u001b[39m\u001b[39m.\u001b[39mstderr)):\n",
      "File \u001b[1;32mC:\\Program Files\\WindowsApps\\PythonSoftwareFoundation.Python.3.11_3.11.752.0_x64__qbz5n2kfra8p0\\Lib\\subprocess.py:1493\u001b[0m, in \u001b[0;36mPopen._execute_child\u001b[1;34m(self, args, executable, preexec_fn, close_fds, pass_fds, cwd, env, startupinfo, creationflags, shell, p2cread, p2cwrite, c2pread, c2pwrite, errread, errwrite, unused_restore_signals, unused_gid, unused_gids, unused_uid, unused_umask, unused_start_new_session, unused_process_group)\u001b[0m\n\u001b[0;32m   1491\u001b[0m \u001b[39m# Start the process\u001b[39;00m\n\u001b[0;32m   1492\u001b[0m \u001b[39mtry\u001b[39;00m:\n\u001b[1;32m-> 1493\u001b[0m     hp, ht, pid, tid \u001b[39m=\u001b[39m _winapi\u001b[39m.\u001b[39;49mCreateProcess(executable, args,\n\u001b[0;32m   1494\u001b[0m                              \u001b[39m# no special security\u001b[39;49;00m\n\u001b[0;32m   1495\u001b[0m                              \u001b[39mNone\u001b[39;49;00m, \u001b[39mNone\u001b[39;49;00m,\n\u001b[0;32m   1496\u001b[0m                              \u001b[39mint\u001b[39;49m(\u001b[39mnot\u001b[39;49;00m close_fds),\n\u001b[0;32m   1497\u001b[0m                              creationflags,\n\u001b[0;32m   1498\u001b[0m                              env,\n\u001b[0;32m   1499\u001b[0m                              cwd,\n\u001b[0;32m   1500\u001b[0m                              startupinfo)\n\u001b[0;32m   1501\u001b[0m \u001b[39mfinally\u001b[39;00m:\n\u001b[0;32m   1502\u001b[0m     \u001b[39m# Child is launched. Close the parent's copy of those pipe\u001b[39;00m\n\u001b[0;32m   1503\u001b[0m     \u001b[39m# handles that only the child should have open.  You need\u001b[39;00m\n\u001b[1;32m   (...)\u001b[0m\n\u001b[0;32m   1506\u001b[0m     \u001b[39m# pipe will not close when the child process exits and the\u001b[39;00m\n\u001b[0;32m   1507\u001b[0m     \u001b[39m# ReadFile will hang.\u001b[39;00m\n\u001b[0;32m   1508\u001b[0m     \u001b[39mself\u001b[39m\u001b[39m.\u001b[39m_close_pipe_fds(p2cread, p2cwrite,\n\u001b[0;32m   1509\u001b[0m                          c2pread, c2pwrite,\n\u001b[0;32m   1510\u001b[0m                          errread, errwrite)\n",
      "\u001b[1;31mFileNotFoundError\u001b[0m: [WinError 2] The system cannot find the file specified"
     ]
    }
   ],
   "source": [
    "# create directory and enter it\n",
    "os.chdir(homePath)\n",
    "os.mkdir(\"./demoFolder/backend\")\n",
    "os.chdir(\"./demoFolder/backend\")\n",
    "#install express locally\",\n",
    "initResult = npmProg.execute(['init'])\n",
    "print(initResult.stdout)\n",
    "print(initResult.stderr)\n",
    "npmProg.execute(['install', 'express'])\n",
    "  \n",
    "with open(\"filena\")\n",
    "# NodeJS\n",
    "#    const express = require('express');\",\n",
    "#    const app = express();\",\n",
    "#    app.get('/', (req, res) => {res.send('Hello World!');});\",\n",
    "#    const port = process.env.PORT || 3000;\",\n",
    "#    app.listen(port, () => {console.log(`Express app listening on port ${port}`);\",\n",
    "     \n",
    "#Create_Index()\n",
    "# os.mkdir(\"./demoFolder/resources\")\n",
    "os.chdir(\"./demoFolder/backend/\")\n",
    "initResult = gitProg.execute([\"init\"])\n",
    "print(initResult.stdout)\n",
    "print(initResult.stderr)\n",
    "os.chdir(\"..\")"
   ]
  },
  {
   "attachments": {},
   "cell_type": "markdown",
   "metadata": {},
   "source": [
    "# Part 4: Add Firebase to ExpressJS"
   ]
  }
 ],
 "metadata": {
  "kernelspec": {
   "display_name": "Python 3",
   "language": "python",
   "name": "python3"
  },
  "language_info": {
   "codemirror_mode": {
    "name": "ipython",
    "version": 3
   },
   "file_extension": ".py",
   "mimetype": "text/x-python",
   "name": "python",
   "nbconvert_exporter": "python",
   "pygments_lexer": "ipython3",
   "version": "3.11.2"
  },
  "orig_nbformat": 4,
  "vscode": {
   "interpreter": {
    "hash": "9aa12ebf2cc1fde170142d8ed8b19b421935d3b9557f13f93240d1ea24efd561"
   }
  }
 },
 "nbformat": 4,
 "nbformat_minor": 2
}
