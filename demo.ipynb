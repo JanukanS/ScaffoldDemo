{
 "cells": [
  {
   "attachments": {},
   "cell_type": "markdown",
   "metadata": {},
   "source": [
    "# Demo Intro\n",
    "The purpose of this demo is to scaffold a FERN application with:\n",
    "- Project Folder with a Git Repo Initialized\n",
    "- Front End Folder with a functional React Application\n",
    "    - Just displays the firebase status\n",
    "- Back End Folder with a functional Express Application\n",
    "    - Just a get endpoint for revealing firebase status\n",
    "- Generated Backend Server will be connect to firebase with user provided credentials"
   ]
  },
  {
   "attachments": {},
   "cell_type": "markdown",
   "metadata": {},
   "source": [
    "# Basic Guidelines\n",
    "1. Never attempt an rm *, this demo will be changing directories and might accidentally delete something (Should probably find a way to code protection against this)\n",
    "2. Never attempt to change the user's environment (installing/modifying/uninstalling )globally\n",
    "    - if a core program is not present (i.e. node, git), the user should install the program before running the scaffold tool\n",
    "    - if a package/library needs to be installed, it should be done in a local way\n",
    "    - file modifications should only occur in a project directory\n",
    "3. Fail Fast, if a step cannot be completed the entire scaffolding program should halt"
   ]
  },
  {
   "attachments": {},
   "cell_type": "markdown",
   "metadata": {},
   "source": [
    "# Calling Command Line Programs from Python"
   ]
  },
  {
   "cell_type": "code",
   "execution_count": 10,
   "metadata": {},
   "outputs": [
    {
     "name": "stdout",
     "output_type": "stream",
     "text": [
      "git Installed: True\n",
      "node Installed: False\n",
      "npm Installed: False\n",
      "b'commit ae3719f295dd64601d4395d3fec102c5d31761f4\\nAuthor: JanukanS <28988453+JanukanS@users.noreply.github.com>\\nDate:   Thu Feb 9 20:50:27 2023 -0700\\n\\n    Added Some Notes\\n\\ncommit 61e3a91e1fc822c2a916e7c4652f2e80bc20c7fe\\nAuthor: JanukanS <28988453+JanukanS@users.noreply.github.com>\\nDate:   Thu Feb 9 20:43:11 2023 -0700\\n\\n    Added future section for firebase integration\\n\\ncommit a53b472a17c9497180e8a31fba48b319a7c69a5f\\nAuthor: JanukanS <28988453+JanukanS@users.noreply.github.com>\\nDate:   Thu Feb 9 20:36:48 2023 -0700\\n\\n    Added tasks for react, express. Made some failsafes\\n\\ncommit 45081a55101b822c372274582a4d40cd7192cd14\\nAuthor: JanukanS <28988453+JanukanS@users.noreply.github.com>\\nDate:   Thu Feb 9 19:53:05 2023 -0700\\n\\n    Initial Commit\\n'\n"
     ]
    }
   ],
   "source": [
    "from dataclasses import dataclass\n",
    "import shutil\n",
    "import os\n",
    "import subprocess\n",
    "\n",
    "# homePath stores the location of the jupyter notebook\n",
    "# if os.getcwd is run while the program is another directory\n",
    "# homePath will not be correct. To fix this, homepath is always\n",
    "# run in the first cell of the notebook. Before it is assigned,\n",
    "# the global namespace is checked for the presence of homepath\n",
    "# This conditional effectively makes homepath a const\n",
    "if 'homePath' not in globals():\n",
    "    homePath = str(os.getcwd())\n",
    "\n",
    "# a class to use command line programs through python\n",
    "# note it must be a program, this doesn't work for \n",
    "# system utilities like cd, rm, mkdir etc. \n",
    "@dataclass\n",
    "class ProgramHandle:\n",
    "    programName: str\n",
    "\n",
    "    def exists(self) -> bool:\n",
    "        # checks if the program is accessible/installed\n",
    "        return bool(shutil.which(self.programName))\n",
    "\n",
    "    def execute(self, progArgs: list[str]):\n",
    "        '''Executes function and returns a subProcess.completedProcess instance'''\n",
    "        return subprocess.run([self.programName, *progArgs],\n",
    "                              capture_output=True)\n",
    "\n",
    "# commonly used program handles\n",
    "gitProg = ProgramHandle('git')\n",
    "nodeProg = ProgramHandle('node')\n",
    "npmProg = ProgramHandle('npm')\n",
    "\n",
    "\n",
    "\n",
    "def installStatus():\n",
    "    '''Reports if programs are installed and accesible'''\n",
    "    progList = [gitProg, nodeProg, npmProg]\n",
    "    for prog in progList:\n",
    "        print(f\"{prog.programName} Installed: {prog.exists()}\")\n",
    "\n",
    "installStatus()\n",
    "print(gitProg.execute(['log']).stdout)"
   ]
  },
  {
   "attachments": {},
   "cell_type": "markdown",
   "metadata": {},
   "source": [
    "# Reset Demo\n",
    "This section just deletes and recreates the demo folder."
   ]
  },
  {
   "cell_type": "code",
   "execution_count": 6,
   "metadata": {},
   "outputs": [],
   "source": [
    "def clearDemo():\n",
    "    '''Empties the demo folder'''\n",
    "    os.chdir(homePath) # travel to original directory\n",
    "    shutil.rmtree(\"./demoFolder\")\n",
    "    os.mkdir(\"./demoFolder\")\n",
    "clearDemo()"
   ]
  },
  {
   "attachments": {},
   "cell_type": "markdown",
   "metadata": {},
   "source": [
    "# Part 1 Creation of Project Folder and Git Initialization\n",
    "Currently this part requires the demo folder to be empty, running the cell above should work. If not, then restart the journal kernel"
   ]
  },
  {
   "cell_type": "code",
   "execution_count": 7,
   "metadata": {},
   "outputs": [
    {
     "name": "stdout",
     "output_type": "stream",
     "text": [
      "b'Initialized empty Git repository in C:/Users/Janukan/Documents/ScaffoldDemo/demoFolder/fernDemo/.git/\\n'\n",
      "b''\n"
     ]
    }
   ],
   "source": [
    "# create directory and enter it\n",
    "os.mkdir(\"./demoFolder/fernDemo\")\n",
    "os.chdir(\"./demoFolder/fernDemo\")\n",
    "\n",
    "# git init and print standard output\n",
    "initResult = gitProg.execute([\"init\"])\n",
    "print(initResult.stdout)\n",
    "print(initResult.stderr)\n",
    "\n",
    "# travel back to demoFolder Root\n",
    "os.chdir(\"..\")"
   ]
  },
  {
   "attachments": {},
   "cell_type": "markdown",
   "metadata": {},
   "source": [
    "# Part 2: Create Front End Folder (React)\n",
    "1. Create Front End Folder\n",
    "2. Initialize Node App\n",
    "3. Install React Locally\n",
    "4. Create React App (Default React App is good for now)\n",
    "5. Travel to Front End Folder \n",
    "6. Git add + Git Commit\n",
    "7. Return to Project Directory"
   ]
  },
  {
   "cell_type": "code",
   "execution_count": null,
   "metadata": {},
   "outputs": [],
   "source": [
    "import shutil\n",
    "import os\n",
    "import subprocess\n",
    "\n",
    "#1\n",
    "os.mkdir(\"frontend\")\n",
    "\n",
    "#____________________________________________________________________________________________________\n",
    "#2, 3, and 4\n",
    "\n",
    "import subprocess\n",
    "import os\n",
    "\n",
    "def initApp(appName):\n",
    "    #Create commands that create React app and NodeJS project.\n",
    "    createReactAppCommand = f\"npx create-react-app {appName}\"\n",
    "    createNodeAppCommand = f\"npm init -y\"\n",
    "\n",
    "    #Crete the React app directory name\n",
    "    reactDirectory = f\"{appName}\"\n",
    "    \n",
    "    #Install the Node package\n",
    "    subprocess.run(createNodeAppCommand, shell=True, check=True)\n",
    "\n",
    "    #Create and enter the React app directory\n",
    "    os.mkdir(reactDirectory)\n",
    "    os.chdir(reactDirectory)\n",
    "    \n",
    "    #Create the React app\n",
    "    subprocess.run(createReactAppCommand, shell=True, check=True)\n",
    "    os.chdir(\"..\")\n",
    "    \n",
    "    print(f\"Both React and Node apps have been created successfully.\")\n",
    "\n",
    "name = input(\"Input the name of your app.\")\n",
    "initApp(name)\n",
    "\n",
    "#____________________________________________________________________________________________________\n",
    "#5\n",
    "os.chdir(\"frontend\")\n",
    "\n",
    "#____________________________________________________________________________________________________\n",
    "#6\n",
    "def gitAddAndCommit(message):\n",
    "    gitAddCommand = \"git add --a\"\n",
    "    gitCommitCommand = f'git commit -m \"{message}\"'\n",
    "\n",
    "    subprocess.run(gitAddCommand, shell=True, check=True)\n",
    "    subprocess.run(gitCommitCommand, shell=True, check=True)\n",
    "\n",
    "    print(\"The frotend folder has successfully be added and committed to git.\")\n",
    "\n",
    "commitMessage = input(\"What is the commit message you would like to write? \\n\")\n",
    "gitAddAndCommit(commitMessage)\n",
    "\n",
    "#____________________________________________________________________________________________________\n",
    "#7\n",
    "os.chdir(\"..\")"
   ]
  },
  {
   "attachments": {},
   "cell_type": "markdown",
   "metadata": {},
   "source": [
    "# Part 3: Create Backend Folder (Express)\n",
    "1. Create Back End Folder within project directory\n",
    "2. Initialize Node App\n",
    "3. Install Express Locally\n",
    "4. Copy Basic Express App into directory\n",
    "    - Keep express app source files within resources folder\n",
    "    - Simple express app: a single \"hello world\" get request\n",
    "5. Travel to Back End Folder\n",
    "6. Git add + Git Commit\n",
    "7. Return to Project Directory"
   ]
  },
  {
   "cell_type": "code",
   "execution_count": null,
   "metadata": {},
   "outputs": [],
   "source": []
  },
  {
   "attachments": {},
   "cell_type": "markdown",
   "metadata": {},
   "source": [
    "# Part 4: Add Firebase to ExpressJS"
   ]
  }
 ],
 "metadata": {
  "kernelspec": {
   "display_name": "Python 3",
   "language": "python",
   "name": "python3"
  },
  "language_info": {
   "codemirror_mode": {
    "name": "ipython",
    "version": 3
   },
   "file_extension": ".py",
   "mimetype": "text/x-python",
   "name": "python",
   "nbconvert_exporter": "python",
   "pygments_lexer": "ipython3",
   "version": "3.11.2"
  },
  "orig_nbformat": 4,
  "vscode": {
   "interpreter": {
    "hash": "9aa12ebf2cc1fde170142d8ed8b19b421935d3b9557f13f93240d1ea24efd561"
   }
  }
 },
 "nbformat": 4,
 "nbformat_minor": 2
}
