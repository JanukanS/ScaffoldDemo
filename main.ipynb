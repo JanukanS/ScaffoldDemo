{
 "cells": [
  {
   "attachments": {},
   "cell_type": "markdown",
   "metadata": {},
   "source": [
    "# Calling Command Line Programs from Python"
   ]
  },
  {
   "cell_type": "code",
   "execution_count": 16,
   "metadata": {},
   "outputs": [
    {
     "name": "stdout",
     "output_type": "stream",
     "text": [
      "git Installed: True\n",
      "node Installed: False\n",
      "b'fatal: not a git repository (or any of the parent directories): .git\\n'\n"
     ]
    }
   ],
   "source": [
    "from dataclasses import dataclass\n",
    "import shutil\n",
    "import subprocess\n",
    "\n",
    "@dataclass\n",
    "class ProgramHandle:\n",
    "    programName: str\n",
    "\n",
    "    def exists(self) -> bool:\n",
    "        return bool(shutil.which(self.programName))\n",
    "\n",
    "    def execute(self, progArgs: list[str]):\n",
    "        '''Executes function and returns a subProcess.completedProcess instance'''\n",
    "        return subprocess.run([self.programName, *progArgs],\n",
    "                              capture_output=True)\n",
    "\n",
    "class UtilityHandle(ProgramHandle):\n",
    "    def exists(self) -> bool:\n",
    "        return True\n",
    "\n",
    "# commonly used program handles\n",
    "gitProg = ProgramHandle('git')\n",
    "nodeProg = ProgramHandle('node')\n",
    "\n",
    "\n",
    "\n",
    "def installStatus():\n",
    "    '''Reports if programs are installed and accesible'''\n",
    "    progList = [gitProg, nodeProg]\n",
    "    for prog in progList:\n",
    "        print(f\"{prog.programName} Installed: {prog.exists()}\")\n",
    "\n",
    "installStatus()\n",
    "print(gitProg.execute(['log']).stderr)"
   ]
  },
  {
   "attachments": {},
   "cell_type": "markdown",
   "metadata": {},
   "source": [
    "# Reset Demo\n",
    "This section just deletes and recreates the demo folder."
   ]
  },
  {
   "cell_type": "code",
   "execution_count": 27,
   "metadata": {},
   "outputs": [],
   "source": [
    "def clearDemo():\n",
    "    shutil.rmtree(\"./demoFolder\")\n",
    "clearDemo()"
   ]
  }
 ],
 "metadata": {
  "kernelspec": {
   "display_name": "Python 3",
   "language": "python",
   "name": "python3"
  },
  "language_info": {
   "codemirror_mode": {
    "name": "ipython",
    "version": 3
   },
   "file_extension": ".py",
   "mimetype": "text/x-python",
   "name": "python",
   "nbconvert_exporter": "python",
   "pygments_lexer": "ipython3",
   "version": "3.11.2"
  },
  "orig_nbformat": 4,
  "vscode": {
   "interpreter": {
    "hash": "9aa12ebf2cc1fde170142d8ed8b19b421935d3b9557f13f93240d1ea24efd561"
   }
  }
 },
 "nbformat": 4,
 "nbformat_minor": 2
}
